{
  "nbformat": 4,
  "nbformat_minor": 0,
  "metadata": {
    "colab": {
      "provenance": []
    },
    "kernelspec": {
      "name": "python3",
      "display_name": "Python 3"
    },
    "language_info": {
      "name": "python"
    }
  },
  "cells": [
    {
      "cell_type": "code",
      "execution_count": 20,
      "metadata": {
        "id": "EZRHFhO8nFnX",
        "colab": {
          "base_uri": "https://localhost:8080/"
        },
        "outputId": "60231d32-18c5-4ba8-9937-fa723b8d4a56"
      },
      "outputs": [
        {
          "output_type": "stream",
          "name": "stdout",
          "text": [
            "[0 1 2 3 4 5 6 7 8 9]\n",
            "[[1 2 3]\n",
            " [4 5 6]\n",
            " [7 8 9]]\n",
            "[[0.78278446 0.23655318]\n",
            " [0.26017034 0.95830219]]\n",
            "[[0 1 2]\n",
            " [3 4 5]\n",
            " [6 7 8]]\n",
            "[[ 3  5  7]\n",
            " [ 9 11 13]\n",
            " [15 17  9]]\n",
            "[[ 2  6 12]\n",
            " [20 30 42]\n",
            " [56 72  0]]\n",
            "[[ 36  42  18]\n",
            " [ 81  96  51]\n",
            " [126 150  84]]\n",
            "[[1 4 7]\n",
            " [2 5 8]\n",
            " [3 6 9]]\n",
            "[[ 2  3  4]\n",
            " [ 5  6  7]\n",
            " [ 8  9 10]]\n",
            "[[1.4]\n",
            " [3.2]]\n"
          ]
        }
      ],
      "source": [
        "import numpy as np\n",
        "\n",
        "a=np.arange(10) # prints numbers from 0 to 9\n",
        "print(a)\n",
        "\n",
        "b=np.array([[1, 2, 3], [4, 5, 6], [7, 8, 9]]) # an array of size 3 x 3\n",
        "print(b)\n",
        "\n",
        "c=np.random.rand(2, 2) # a random array of shape 2, 2\n",
        "print(c)\n",
        "\n",
        "d=np.arange(9).reshape(3, 3) #convert 1D array to 2D\n",
        "print(d)\n",
        "\n",
        "x=np.array([[1, 2, 3], [4, 5, 6], [7, 8, 9]])\n",
        "y=np.array([[2, 3, 4], [5, 6, 7], [8, 9, 0]])\n",
        "print(x+y) #element wise addition of two arrays\n",
        "\n",
        "print(x*y) #element wise multiplication\n",
        "\n",
        "print(np.dot(x, y)) #matrix multiplication\n",
        "\n",
        "print(x.T) #transpose of matrix x\n",
        "\n",
        "print(x+1) #element wise addition\n",
        "\n",
        "#a basic ML calculation\n",
        "p=np.array([[1, 2, 3], [4, 5, 6]]) #inputs\n",
        "q=np.array([[0.1], [0.2], [0.3]]) #weights\n",
        "print(np.dot(p, q)) #input x weights\n",
        "\n"
      ]
    }
  ]
}